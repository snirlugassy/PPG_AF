{
 "cells": [
  {
   "cell_type": "code",
   "execution_count": 1,
   "metadata": {},
   "outputs": [
    {
     "name": "stdout",
     "output_type": "stream",
     "text": [
      "Bandpass filter frequencies: [ 0.5, 4.0 ]\n"
     ]
    }
   ],
   "source": [
    "import os\n",
    "import numpy as np\n",
    "import scipy.io\n",
    "import matplotlib.pyplot as plt\n",
    "import math\n",
    "\n",
    "import torch\n",
    "from torch.utils.data import Dataset\n",
    "\n",
    "import heartpy as hp\n",
    "from heartpy.exceptions import BadSignalWarning\n",
    "from heartpy.datautils import rolling_mean\n",
    "from heartpy.peakdetection import detect_peaks, fit_peaks, calc_rr\n",
    "\n",
    "from numpy.lib.stride_tricks import as_strided\n",
    "\n",
    "import config\n",
    "\n",
    "from elgendi_ppg_peak_detection import elegendi_ppg_findpeaks\n",
    "\n",
    "RR_WINDOW_SIZE = 60\n",
    "\n",
    "FS = 128\n",
    "DFS = 50\n",
    "\n",
    "AF = 1\n",
    "NON_AF = 0\n",
    "\n",
    "LOW_FREQ_FILTER = (30 / 60)\n",
    "HI_FREQ_FILTER = (240 / 60)\n",
    "\n",
    "print(f'Bandpass filter frequencies: [ {LOW_FREQ_FILTER}, {HI_FREQ_FILTER} ]')"
   ]
  },
  {
   "cell_type": "code",
   "execution_count": 7,
   "metadata": {},
   "outputs": [],
   "source": [
    "class PPGDataset(Dataset):\n",
    "    def __init__(self, data_path, freq, peak_detector='heartpy'):\n",
    "        self.freq = freq\n",
    "        self.data_path = data_path\n",
    "        data_files = os.listdir(data_path)\n",
    "        self.peak_detector = peak_detector\n",
    "        if peak_detector not in ['heartpy', 'elgendi']:\n",
    "            self.peak_detector = 'heartpy'\n",
    "\n",
    "        # File discovery\n",
    "        self.subjects = {f[:4] for f in data_files if f[:4].isdigit()}\n",
    "        self.signal_files = [os.path.join(data_path, s + '.mat') for s in self.subjects]\n",
    "        self.ground_truth_files = [os.path.join(data_path, s + '_ground_truth.mat') for s in self.subjects]\n",
    "\n",
    "        # self.ground_truth_files = [f for f in data_files if 'ground_truth' in f]\n",
    "        # self.peak_ref_files = [f for f in data_files if 'Peak_Ref_ECG' in f]\n",
    "        # self.ecg_30_sec_files = [f for f in data_files if 'ECG_30sec' in f]\n",
    "        # self.ref_ecg_files = [f for f in data_files if 'RefECG' in f]\n",
    "\n",
    "        self.info_file = None\n",
    "        if 'UMass_SimbandInfo.mat' in data_files:\n",
    "            self.info_file = os.path.join(data_path, 'UMass_SimbandInfo.mat')\n",
    "\n",
    "        # self.signal_files = set(data_files) - set(self.ground_truth_files + self.peak_ref_files + self.ecg_30_sec_files + self.ref_ecg_files + [self.info_file])\n",
    "        # self.signal_files = list(self.signal_files)\n",
    "        # print('signal_files:', self.signal_files)\n",
    "        # self.subjects = [int(os.path.splitext(x)[0]) for x in self.signal_files]\n",
    "        # self.subjects.sort()\n",
    "\n",
    "        self.cache = {}\n",
    "        self.data = []\n",
    "        self.rr_intervals = []\n",
    "\n",
    "    # def get_raw_ppg_signal(self, pid, channel=0):\n",
    "    #     signal_file = os.path.join(self.data_path, f'{pid}.mat')\n",
    "    #     _data = scipy.io.loadmat(signal_file, matlab_compatible=True, simplify_cells=True)\n",
    "    #     if channel not in range(8):\n",
    "    #         channel = 0\n",
    "    #     return _data['data']['physiosignal']['ppg'][chr(ord('a') + channel)]['signal']\n",
    "\n",
    "    def bandpass_filter(self, x, filter_order=2):\n",
    "        return hp.filter_signal(x, [config.LOW_FREQ_FILTER, config.HI_FREQ_FILTER], sample_rate=self.freq, order=filter_order, filtertype='bandpass')\n",
    "\n",
    "    def get_ppg_signal(self, pid, filter=True):\n",
    "        signal_file = os.path.join(self.data_path, f'{pid}.mat')\n",
    "        _data = scipy.io.loadmat(signal_file, matlab_compatible=True, simplify_cells=True)\n",
    "        if filter:\n",
    "            return self.bandpass_filter(_data['PPG_FULL'])\n",
    "        return _data['PPG_FULL']\n",
    "\n",
    "    def get_ground_truth(self, pid):\n",
    "        gt_file = os.path.join(self.data_path, f'{pid}_ground_truth.mat')\n",
    "        _data = scipy.io.loadmat(gt_file, matlab_compatible=True, simplify_cells=True)\n",
    "        _gt = _data['disease_label']\n",
    "        return (_gt[:,1:] == config.AF).flatten().astype(float)\n",
    "\n",
    "    def process_signals(self):\n",
    "        window_size = 30 * self.freq\n",
    "        sub_window_size = window_size // 3\n",
    "\n",
    "        for subject in self.subjects:\n",
    "            sig = self.get_ppg_signal(subject)\n",
    "            gt = self.get_ground_truth(subject)\n",
    "            rrs = []\n",
    "            gts = []\n",
    "            for i in range(len(gt)):\n",
    "                window = sig[window_size*i:window_size*(i+1)]\n",
    "                if self.peak_detector == 'elgendi':\n",
    "                    try:\n",
    "                        _peaks = elegendi_ppg_findpeaks(window, sampling_rate=config.DFS, )['PPG_Peaks']\n",
    "                        rr = calc_rr(_peaks, sample_rate=config.DFS)['RR_list']\n",
    "                    except:\n",
    "                        rr = np.array([])\n",
    "                else:\n",
    "                    rol_mean = rolling_mean(window, windowsize=1, sample_rate=config.DFS)\n",
    "                    wd = detect_peaks(window, rol_mean, ma_perc=20, sample_rate=config.DFS)\n",
    "                    rr = wd['RR_list']\n",
    "                rrs.append(rr)\n",
    "                gts.append(np.ones_like(rr) * gt[i])\n",
    "            \n",
    "            rrs = np.hstack(rrs)\n",
    "            gts = np.hstack(gts)\n",
    "\n",
    "            rrs = as_strided(rrs,shape=(len(rrs)//config.RR_WINDOW_SIZE, config.RR_WINDOW_SIZE))\n",
    "            gts = as_strided(gts,shape=(len(gts)//config.RR_WINDOW_SIZE, config.RR_WINDOW_SIZE))\n",
    "\n",
    "            for i in range(rrs.shape[0]):\n",
    "                # Filtering / Masking ignorance should go here\n",
    "                self.rr_intervals.append((rrs[i], max(gts[i]), i, subject))\n",
    "\n",
    "                # for j in range(3):\n",
    "                #     start_idx = window_size*i + sub_window_size*j\n",
    "                #     end_idx = start_idx + sub_window_size\n",
    "                #     self.data.append((sig[start_idx:end_idx], gt[i]))\n",
    "\n",
    "    def window(self, x, freq, start=0, sec=10):\n",
    "        start_idx = math.floor(start * freq)\n",
    "        end_idx = math.floor(start_idx + sec * freq)\n",
    "        return x[start_idx:end_idx]\n",
    "\n",
    "    def __len__(self):\n",
    "        return len(self.rr_intervals)\n",
    "\n",
    "    def __getitem__(self, idx):\n",
    "        return self.rr_intervals[idx]\n",
    "\n",
    "\n",
    "dataset = PPGDataset('data', freq=DFS, peak_detector='elgendi')\n",
    "dataset.process_signals()"
   ]
  },
  {
   "cell_type": "code",
   "execution_count": 8,
   "metadata": {},
   "outputs": [
    {
     "data": {
      "image/png": "[encoded data removed]",
      "text/plain": [
       "<Figure size 432x288 with 1 Axes>"
      ]
     },
     "metadata": {
      "needs_background": "light"
     },
     "output_type": "display_data"
    }
   ],
   "source": [
    "x1 = dataset[0][0]\n",
    "x2 = dataset[1][0]\n",
    "x3 = dataset[3][0]\n",
    "\n",
    "plt.figure()\n",
    "plt.plot(x1)\n",
    "plt.plot(x2)\n",
    "plt.plot(x3)\n",
    "plt.show()"
   ]
  },
  {
   "cell_type": "code",
   "execution_count": null,
   "metadata": {},
   "outputs": [],
   "source": [
    "x1 = dataset[0][0]\n",
    "x2 = dataset[1][0]\n",
    "x3 = dataset[3][0]\n",
    "\n",
    "plt.figure()\n",
    "plt.plot(x1)\n",
    "plt.plot(x2)\n",
    "plt.plot(x3)\n",
    "plt.show()"
   ]
  },
  {
   "cell_type": "code",
   "execution_count": null,
   "metadata": {},
   "outputs": [],
   "source": [
    "sig = dataset.get_ppg_signal('4001')\n",
    "x = sig[100:900]\n",
    "peaks = elegendi_ppg_findpeaks(x, sampling_rate=config.DFS)['PPG_Peaks']\n",
    "\n",
    "plt.plot(x)\n",
    "plt.scatter(peaks, x[peaks], color='red')\n",
    "plt.show()"
   ]
  },
  {
   "cell_type": "code",
   "execution_count": null,
   "metadata": {},
   "outputs": [],
   "source": [
    "rr1 = calc_rr(peaks, config.DFS)\n",
    "rr1['RR_list']"
   ]
  },
  {
   "cell_type": "code",
   "execution_count": null,
   "metadata": {},
   "outputs": [],
   "source": [
    "x = dataset[0]\n",
    "x"
   ]
  },
  {
   "cell_type": "code",
   "execution_count": null,
   "metadata": {},
   "outputs": [],
   "source": [
    "total = 0\n",
    "af = 0\n",
    "sigs = []\n",
    "for subject in dataset.subjects:\n",
    "    gt = dataset.get_ground_truth(subject)\n",
    "    total += 1\n",
    "    if 1 in gt:\n",
    "        af += 1\n",
    "    sig = dataset.get_ppg_signal(subject)\n",
    "    print('Subject ', subject, ' recording duration: {:.2f}'.format(len(sig) / (DFS*60)), 'minutes')\n",
    "    sigs.append(sig)\n",
    "\n",
    "\n",
    "print('total=', total)\n",
    "print('af=', af)"
   ]
  },
  {
   "cell_type": "code",
   "execution_count": null,
   "metadata": {},
   "outputs": [],
   "source": [
    "avg_signal_length = sum([len(x) for x in sigs]) / total\n",
    "avg_signal_length"
   ]
  },
  {
   "cell_type": "code",
   "execution_count": null,
   "metadata": {},
   "outputs": [],
   "source": [
    "avg_signal_length / (DFS)"
   ]
  },
  {
   "cell_type": "code",
   "execution_count": null,
   "metadata": {},
   "outputs": [],
   "source": [
    "x = dataset.get_ppg_signal(4001, filter=False)\n",
    "xf = dataset.get_ppg_signal(4001, filter=True)\n",
    "\n",
    "t1 = 3000\n",
    "t2 = 3200\n",
    "\n",
    "plt.figure(figsize=(12,4))\n",
    "plt.title('Raw PPG signal')\n",
    "plt.plot(x[t1:t2])\n",
    "plt.show()\n",
    "\n",
    "plt.figure(figsize=(12,4))\n",
    "plt.title('Filtered PPG signal')\n",
    "plt.plot(xf[t1:t2])\n",
    "plt.show()"
   ]
  },
  {
   "cell_type": "code",
   "execution_count": null,
   "metadata": {},
   "outputs": [],
   "source": [
    "len(dataset.rr_intervals)"
   ]
  },
  {
   "cell_type": "code",
   "execution_count": null,
   "metadata": {},
   "outputs": [],
   "source": [
    "dataset.rr_intervals[1]"
   ]
  },
  {
   "cell_type": "code",
   "execution_count": null,
   "metadata": {},
   "outputs": [],
   "source": [
    "for i in range(len(dataset)):\n",
    "    X,y,pid = dataset[i]\n",
    "    if 1 in y:\n",
    "        print('found AF for ', pid)\n",
    "        break"
   ]
  },
  {
   "cell_type": "code",
   "execution_count": null,
   "metadata": {},
   "outputs": [],
   "source": [
    "plt.figure()\n",
    "\n",
    "t1 = 20\n",
    "t2 = 300\n",
    "\n",
    "plt.plot(X[t1:t2])\n",
    "plt.plot((y*1000)[t1:t2])\n",
    "plt.show()"
   ]
  },
  {
   "cell_type": "code",
   "execution_count": null,
   "metadata": {},
   "outputs": [],
   "source": [
    "X.shape"
   ]
  },
  {
   "cell_type": "code",
   "execution_count": null,
   "metadata": {},
   "outputs": [],
   "source": [
    "X[:60], X[60:120]"
   ]
  },
  {
   "cell_type": "code",
   "execution_count": null,
   "metadata": {},
   "outputs": [],
   "source": [
    "swid = np.lib.stride_tricks.as_strided(X,shape=(len(X)//60, 60))\n",
    "swid.shape"
   ]
  },
  {
   "cell_type": "code",
   "execution_count": null,
   "metadata": {},
   "outputs": [],
   "source": [
    "[swid[i,:] for i in range(swid.shape[0])]"
   ]
  },
  {
   "cell_type": "code",
   "execution_count": null,
   "metadata": {},
   "outputs": [],
   "source": [
    "26*60"
   ]
  },
  {
   "cell_type": "code",
   "execution_count": null,
   "metadata": {},
   "outputs": [],
   "source": [
    "swid = np.lib.stride_tricks.sliding_window_view(X, window_shape=(60))\n",
    "\n",
    "swid[0]"
   ]
  },
  {
   "cell_type": "code",
   "execution_count": null,
   "metadata": {},
   "outputs": [],
   "source": [
    "swid[1]"
   ]
  },
  {
   "cell_type": "code",
   "execution_count": null,
   "metadata": {},
   "outputs": [],
   "source": [
    "wd, measures = hp.process(dataset.data[200][0], sample_rate=DFS, windowsize=1.2)\n",
    "hp.plotter(wd, measures)"
   ]
  },
  {
   "cell_type": "code",
   "execution_count": null,
   "metadata": {},
   "outputs": [],
   "source": [
    "rmssd = []\n",
    "bpm = []\n",
    "for sig, gt in dataset.data:\n",
    "    try:\n",
    "        wd, measures = hp.process(sig, sample_rate=DFS, windowsize=1.2)\n",
    "        rmssd.append(measures['rmssd'])\n",
    "        bpm.append(measures['bpm'])\n",
    "    except BadSignalWarning:\n",
    "        continue"
   ]
  },
  {
   "cell_type": "code",
   "execution_count": null,
   "metadata": {},
   "outputs": [],
   "source": [
    "plt.figure()\n",
    "plt.title('RMSSD Distribution')\n",
    "plt.hist(rmssd, bins=20)\n",
    "plt.xlabel('rmssd')\n",
    "plt.ylabel('# windows')\n",
    "plt.show()"
   ]
  },
  {
   "cell_type": "code",
   "execution_count": null,
   "metadata": {},
   "outputs": [],
   "source": [
    "plt.figure()\n",
    "plt.title('BPM Distribution')\n",
    "plt.hist(bpm, bins=20)\n",
    "plt.xlabel('bpm')\n",
    "plt.ylabel('# windows')\n",
    "plt.show()"
   ]
  },
  {
   "cell_type": "code",
   "execution_count": null,
   "metadata": {},
   "outputs": [],
   "source": [
    "sig,gt = dataset.data[300]\n",
    "wd, measures = hp.process(sig, sample_rate=DFS, windowsize=3)\n",
    "rol_mean = rolling_mean(sig, windowsize = 1, sample_rate = DFS)\n",
    "wd = detect_peaks(sig, rol_mean, ma_perc = 20, sample_rate = DFS)\n",
    "wd.keys()"
   ]
  },
  {
   "cell_type": "code",
   "execution_count": null,
   "metadata": {},
   "outputs": [],
   "source": [
    "plt.figure()\n",
    "plt.plot(dataset.rr_intervals[200][0])\n",
    "plt.show()"
   ]
  }
 ],
 "metadata": {
  "interpreter": {
   "hash": "31f2aee4e71d21fbe5cf8b01ff0e069b9275f58929596ceb00d14d90e3e16cd6"
  },
  "kernelspec": {
   "display_name": "Python 3.8.9 64-bit",
   "language": "python",
   "name": "python3"
  },
  "language_info": {
   "codemirror_mode": {
    "name": "ipython",
    "version": 3
   },
   "file_extension": ".py",
   "mimetype": "text/x-python",
   "name": "python",
   "nbconvert_exporter": "python",
   "pygments_lexer": "ipython3",
   "version": "3.10.4"
  },
  "orig_nbformat": 4
 },
 "nbformat": 4,
 "nbformat_minor": 2
}
