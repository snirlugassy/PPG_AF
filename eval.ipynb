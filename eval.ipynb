{
 "cells": [
  {
   "cell_type": "code",
   "execution_count": 24,
   "metadata": {},
   "outputs": [],
   "source": [
    "import sys\n",
    "import os\n",
    "import pickle\n",
    "import numpy as np\n",
    "import matplotlib.pyplot as plt\n",
    "from ppg_dataset import PPGDataset\n",
    "\n",
    "import config\n",
    "\n",
    "sys.path.append(os.path.join(os.path.curdir, 'trained_model'))\n",
    "\n",
    "from trained_model.src.models.utils import load_model\n",
    "import trained_model.utils.consts as consts\n",
    "from trained_model.src.train_and_eval import eval\n",
    "\n",
    "from sklearn import metrics\n",
    "from sklearn.metrics import accuracy_score, precision_score, f1_score, roc_curve, recall_score\n",
    "from sklearn.preprocessing import normalize\n",
    "\n",
    "from pprint import pp, pprint\n",
    "\n",
    "from tabulate import tabulate\n",
    "\n",
    "import matplotlib\n",
    "# reset the matplotlib settings to default\n",
    "matplotlib.rcParams.update(matplotlib.rcParamsDefault)"
   ]
  },
  {
   "cell_type": "code",
   "execution_count": 2,
   "metadata": {},
   "outputs": [
    {
     "name": "stdout",
     "output_type": "stream",
     "text": [
      "WARNING:tensorflow:From /Users/snirlugassy/Projects/ppg_af/./trained_model/src/models/OneDCNN.py:16: The name tf.keras.backend.set_session is deprecated. Please use tf.compat.v1.keras.backend.set_session instead.\n",
      "\n"
     ]
    },
    {
     "data": {
      "text/plain": [
       "<src.models.OneDCNN.OneDCNN at 0x7f8144cf9750>"
      ]
     },
     "execution_count": 2,
     "metadata": {},
     "output_type": "execute_result"
    }
   ],
   "source": [
    "# Load 1D-CNN\n",
    "af_1d_cnn = load_model(consts.path_models['1D-CNN'], algo='1D-CNN')['classifier']\n",
    "af_1d_cnn"
   ]
  },
  {
   "cell_type": "code",
   "execution_count": 3,
   "metadata": {},
   "outputs": [],
   "source": [
    "dataset = PPGDataset('data', freq=config.DFS)\n",
    "dataset.process_signals()\n",
    "all_windows = [x for x in dataset]"
   ]
  },
  {
   "cell_type": "code",
   "execution_count": 4,
   "metadata": {},
   "outputs": [
    {
     "data": {
      "text/plain": [
       "(array([  80., 1360., 1000.,  480.,  960.,  960.,  120., 1060.,  640.,\n",
       "         340.,  540.,  300.,  740.,  120., 1420.,  720., 1200.,  520.,\n",
       "         880.,  700.,  700.,  660.,  560.,  800.,  820.,  540.,  720.,\n",
       "         340.,  380.,  580.,  840.,  580.,  720.,  620.,  840.,  720.,\n",
       "         680.,  620.,  580.,  820., 1300., 1020.,  540.,  980.,  720.,\n",
       "         800.,  680.,  660.,  600.,  660.,  740.,  280.,   40.,  440.,\n",
       "         620.,  700.,  820.,  700.,  240., 1080.]),\n",
       " array([0., 0., 0., 0., 0., 0., 0., 0., 0., 0., 0., 0., 0., 0., 0., 0., 0.,\n",
       "        0., 0., 0., 0., 0., 0., 0., 0., 0., 0., 0., 0., 0., 0., 0., 0., 0.,\n",
       "        0., 0., 0., 0., 0., 0., 0., 0., 0., 0., 0., 0., 0., 0., 0., 0., 0.,\n",
       "        0., 0., 0., 0., 0., 0., 0., 0., 0.]),\n",
       " 0,\n",
       " '4018')"
      ]
     },
     "execution_count": 4,
     "metadata": {},
     "output_type": "execute_result"
    }
   ],
   "source": [
    "all_windows[0]"
   ]
  },
  {
   "cell_type": "code",
   "execution_count": 27,
   "metadata": {},
   "outputs": [],
   "source": [
    "def eval_af_predictions(y_true, y_score, threshold=0.5):\n",
    "    y_predict = 1 * (y_score > threshold)\n",
    "    scores_table = []\n",
    "    scores_table.append(['Accuracy', metrics.accuracy_score(y_true, y_predict)])\n",
    "    scores_table.append(['Precision', metrics.precision_score(y_true, y_predict)])\n",
    "    scores_table.append(['Recall', metrics.recall_score(y_true, y_predict)])\n",
    "    scores_table.append(['ROC AUC', metrics.roc_auc_score(y_true, y_score)])\n",
    "    print(tabulate(scores_table))\n",
    "\n",
    "    print('Confusion Matrix:')\n",
    "    tn, fp, fn, tp = metrics.confusion_matrix(y_true, y_predict).ravel()\n",
    "    print(tabulate([\n",
    "        [f'TP {tp}', f'FN {fn}'],\n",
    "        [f'FP {fp}', f'TN {tn}']\n",
    "\n",
    "    ]))\n",
    "    \n",
    "    fpr, tpr, _ = metrics.roc_curve(y_true, y_score)\n",
    "    plt.figure()\n",
    "    plt.title(\"ROC Curve\")\n",
    "    plt.plot(fpr, tpr)\n",
    "    plt.xlabel('FPR')\n",
    "    plt.ylabel('TPR')\n",
    "    plt.show()\n",
    "    "
   ]
  },
  {
   "cell_type": "code",
   "execution_count": 21,
   "metadata": {},
   "outputs": [
    {
     "name": "stdout",
     "output_type": "stream",
     "text": [
      "(2221, 60)\n"
     ]
    }
   ],
   "source": [
    "y = [bool(max(w[1])) for w in all_windows]\n",
    "X = [w[0] for w in all_windows]\n",
    "X = np.vstack(X)\n",
    "\n",
    "print(X.shape)"
   ]
  },
  {
   "cell_type": "code",
   "execution_count": 22,
   "metadata": {},
   "outputs": [
    {
     "name": "stdout",
     "output_type": "stream",
     "text": [
      "70/70 [==============================] - 1s 12ms/step\n"
     ]
    },
    {
     "data": {
      "text/plain": [
       "array([1.4202676e-15, 0.0000000e+00, 1.0000000e+00, ..., 4.7629614e-18,\n",
       "       0.0000000e+00, 1.0000000e+00], dtype=float32)"
      ]
     },
     "execution_count": 22,
     "metadata": {},
     "output_type": "execute_result"
    }
   ],
   "source": [
    "th = 0.5\n",
    "x = X.reshape(X.shape[0], X.shape[1], 1)\n",
    "y_score = af_1d_cnn.model.predict(x).reshape(-1)\n",
    "y_score"
   ]
  },
  {
   "cell_type": "code",
   "execution_count": 28,
   "metadata": {},
   "outputs": [
    {
     "name": "stdout",
     "output_type": "stream",
     "text": [
      "Precision: 0.05653710247349823\n",
      "Recall: 0.7868852459016393\n",
      "Accuracy: 0.6334984241332733\n",
      "Confusion Matrix:\n",
      "------  -------\n",
      "TP 48   FN 13\n",
      "FP 801  TN 1359\n",
      "------  -------\n"
     ]
    },
    {
     "data": {
      "image/png": "[encoded data removed]",
      "text/plain": [
       "<Figure size 640x480 with 1 Axes>"
      ]
     },
     "metadata": {},
     "output_type": "display_data"
    }
   ],
   "source": [
    "eval_af_predictions(y, y_score, threshold=0.5)"
   ]
  },
  {
   "cell_type": "code",
   "execution_count": 58,
   "metadata": {},
   "outputs": [
    {
     "name": "stdout",
     "output_type": "stream",
     "text": [
      "3/3 [==============================] - 1s 224ms/step\n"
     ]
    },
    {
     "data": {
      "text/plain": [
       "(0.6334984241332733, 0.10549450549450551, 0.7868852459016393)"
      ]
     },
     "execution_count": 58,
     "metadata": {},
     "output_type": "execute_result"
    }
   ],
   "source": [
    "Z = normalize(X, axis=1)\n",
    "y_predict = af_1d_cnn.predict(X)\n",
    "accuracy_score(y,y_predict), f1_score(y, y_predict), recall_score(y, y_predict)"
   ]
  },
  {
   "cell_type": "code",
   "execution_count": null,
   "metadata": {},
   "outputs": [],
   "source": [
    "algo='ArNet2'\n",
    "model_path = 'trained_model/saved_models/ArNet2/ArNet2.pkl'\n",
    "feature_extractor_path = consts.path_models['ResNet']\n",
    "\n",
    "model = load_model(model_path, algo, feature_extractor_path)\n",
    "classifier = model['classifier']"
   ]
  },
  {
   "cell_type": "code",
   "execution_count": null,
   "metadata": {},
   "outputs": [],
   "source": [
    "afdb_input = pickle.load(open('trained_model/inputs/AFDB_input.pickle', 'rb'))\n",
    "afdb_input"
   ]
  },
  {
   "cell_type": "code",
   "execution_count": null,
   "metadata": {},
   "outputs": [],
   "source": []
  },
  {
   "cell_type": "code",
   "execution_count": null,
   "metadata": {},
   "outputs": [],
   "source": [
    "\n"
   ]
  },
  {
   "cell_type": "code",
   "execution_count": null,
   "metadata": {},
   "outputs": [],
   "source": [
    "# y_true = []\n",
    "# y_predict = []\n",
    "# for x,y in dataset:\n",
    "#     x = x.reshape(1,-1)\n",
    "#     x = np.concatenate([x, np.zeros((1,60))],axis=1)[:,:63]\n",
    "#     y_predict.append(classifier.predict_proba(x))"
   ]
  },
  {
   "cell_type": "code",
   "execution_count": null,
   "metadata": {},
   "outputs": [],
   "source": [
    "x,y = dataset[0]\n",
    "print(x.shape)\n",
    "window_id = 0\n",
    "\n",
    "x = np.concatenate([x, [0], [0], np.array(['PID1'])], dtype=object)\n",
    "x"
   ]
  },
  {
   "cell_type": "code",
   "execution_count": null,
   "metadata": {},
   "outputs": [],
   "source": [
    "classifier.predict_proba(x)"
   ]
  }
 ],
 "metadata": {
  "interpreter": {
   "hash": "7d538358a4a844c2698117f72ddbeea822b864d784b5f9260aa8445549be4a00"
  },
  "kernelspec": {
   "display_name": "Python 3.10.4 ('deep')",
   "language": "python",
   "name": "python3"
  },
  "language_info": {
   "codemirror_mode": {
    "name": "ipython",
    "version": 3
   },
   "file_extension": ".py",
   "mimetype": "text/x-python",
   "name": "python",
   "nbconvert_exporter": "python",
   "pygments_lexer": "ipython3",
   "version": "3.10.4"
  },
  "orig_nbformat": 4
 },
 "nbformat": 4,
 "nbformat_minor": 2
}
