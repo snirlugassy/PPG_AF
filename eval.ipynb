{
 "cells": [
  {
   "cell_type": "code",
   "execution_count": 67,
   "metadata": {},
   "outputs": [],
   "source": [
    "import sys\n",
    "import os\n",
    "import pickle\n",
    "import numpy as np\n",
    "import matplotlib.pyplot as plt\n",
    "from ummc_ppg_loader import PPGDataset, DFS\n",
    "\n",
    "sys.path.append(os.path.join(os.path.curdir, 'trained_model'))\n",
    "\n",
    "from trained_model.src.models.utils import load_model\n",
    "import trained_model.utils.consts as consts\n",
    "from trained_model.src.train_and_eval import eval\n",
    "\n",
    "from sklearn import metrics\n",
    "from sklearn.metrics import accuracy_score, precision_score, f1_score, roc_curve, recall_score\n",
    "from sklearn.preprocessing import normalize\n",
    "\n",
    "from pprint import pp, pprint\n",
    "\n",
    "from tabulate import tabulate"
   ]
  },
  {
   "cell_type": "code",
   "execution_count": 2,
   "metadata": {},
   "outputs": [
    {
     "name": "stdout",
     "output_type": "stream",
     "text": [
      "WARNING:tensorflow:From /Users/snirlugassy/Projects/ppg_af/./trained_model/src/models/OneDCNN.py:16: The name tf.keras.backend.set_session is deprecated. Please use tf.compat.v1.keras.backend.set_session instead.\n",
      "\n"
     ]
    },
    {
     "data": {
      "text/plain": [
       "<src.models.OneDCNN.OneDCNN at 0x7fe22751dde0>"
      ]
     },
     "execution_count": 2,
     "metadata": {},
     "output_type": "execute_result"
    }
   ],
   "source": [
    "# Load 1D-CNN\n",
    "af_1d_cnn = load_model(consts.path_models['1D-CNN'], algo='1D-CNN')['classifier']\n",
    "af_1d_cnn"
   ]
  },
  {
   "cell_type": "code",
   "execution_count": 4,
   "metadata": {},
   "outputs": [],
   "source": [
    "dataset = PPGDataset('data', freq=DFS)\n",
    "dataset.process_signals()\n",
    "all_windows = [x for x in dataset]"
   ]
  },
  {
   "cell_type": "code",
   "execution_count": 5,
   "metadata": {},
   "outputs": [
    {
     "data": {
      "text/plain": [
       "(array([ 860.,  820.,  820.,  780.,  820.,  840.,  740., 1080.,  600.,\n",
       "        1040.,  580.,  840.,  780.,  820.,  800.,  840.,  800.,  800.,\n",
       "         820.,  820.,  860.,  720.,  980.,  660.,  840.,  900.,  780.,\n",
       "         520.,  360.,  680.,  840.,  820.,  820.,  820., 1320.,  340.,\n",
       "         780.,  880.,  680.,  640.,  800.,  560.,  240., 1120.,  720.,\n",
       "         640.,  660.,  800.,  520.,  580.,  700.,  680.,  600., 1100.,\n",
       "         140.,  940.,  780.,  440.,  780.,  440.]),\n",
       " array([0., 0., 0., 0., 0., 0., 0., 0., 0., 0., 0., 0., 0., 0., 0., 0., 0.,\n",
       "        0., 0., 0., 0., 0., 0., 0., 0., 0., 0., 0., 0., 0., 0., 0., 0., 0.,\n",
       "        0., 0., 0., 0., 0., 0., 0., 0., 0., 0., 0., 0., 0., 0., 0., 0., 0.,\n",
       "        0., 0., 0., 0., 0., 0., 0., 0., 0.]),\n",
       " 0,\n",
       " '4033')"
      ]
     },
     "execution_count": 5,
     "metadata": {},
     "output_type": "execute_result"
    }
   ],
   "source": [
    "all_windows[0]"
   ]
  },
  {
   "cell_type": "code",
   "execution_count": 99,
   "metadata": {},
   "outputs": [],
   "source": [
    "def eval_af_predictions(y_true, y_predict):\n",
    "    print('Precision:', metrics.precision_score(y_true, y_predict))\n",
    "    print('Recall:', metrics.recall_score(y_true, y_predict))\n",
    "    print('Accuracy:', metrics.accuracy_score(y_true, y_predict))\n",
    "    print('Confusion Matrix:')\n",
    "    tn, fp, fn, tp = metrics.confusion_matrix(y_true, y_predict).ravel()\n",
    "    print(tabulate([\n",
    "        [f'TP {tp}', f'FN {fn}'],\n",
    "        [f'FP {fp}', f'TN {tn}']\n",
    "\n",
    "    ]))\n",
    "    fpr, tpr, _ = metrics.roc_curve(y_true, y_predict)\n",
    "    plt.figure()\n",
    "    plt.plot()\n",
    "    "
   ]
  },
  {
   "cell_type": "code",
   "execution_count": 26,
   "metadata": {},
   "outputs": [
    {
     "name": "stdout",
     "output_type": "stream",
     "text": [
      "(2221, 60)\n"
     ]
    }
   ],
   "source": [
    "y = [bool(max(w[1])) for w in all_windows]\n",
    "X = [w[0] for w in all_windows]\n",
    "X = np.vstack(X)\n",
    "\n",
    "print(X.shape)"
   ]
  },
  {
   "cell_type": "code",
   "execution_count": 97,
   "metadata": {},
   "outputs": [
    {
     "name": "stdout",
     "output_type": "stream",
     "text": [
      "70/70 [==============================] - 1s 13ms/step\n"
     ]
    }
   ],
   "source": [
    "x = X.reshape(X.shape[0], X.shape[1], 1)\n",
    "y_score = af_1d_cnn.model.predict(x)\n"
   ]
  },
  {
   "cell_type": "code",
   "execution_count": 100,
   "metadata": {},
   "outputs": [],
   "source": [
    "eval_af_predictions(y, y_score)"
   ]
  },
  {
   "cell_type": "code",
   "execution_count": 28,
   "metadata": {},
   "outputs": [
    {
     "data": {
      "text/plain": [
       "0.6334984241332733"
      ]
     },
     "execution_count": 28,
     "metadata": {},
     "output_type": "execute_result"
    }
   ],
   "source": [
    "accuracy_score(y, y_predict)"
   ]
  },
  {
   "cell_type": "code",
   "execution_count": 29,
   "metadata": {},
   "outputs": [
    {
     "data": {
      "text/plain": [
       "0.10549450549450551"
      ]
     },
     "execution_count": 29,
     "metadata": {},
     "output_type": "execute_result"
    }
   ],
   "source": [
    "f1_score(y, y_predict)"
   ]
  },
  {
   "cell_type": "code",
   "execution_count": 33,
   "metadata": {},
   "outputs": [
    {
     "data": {
      "image/png": "[encoded data removed]",
      "text/plain": [
       "<Figure size 432x432 with 1 Axes>"
      ]
     },
     "metadata": {
      "needs_background": "light"
     },
     "output_type": "display_data"
    }
   ],
   "source": [
    "tpr, fpr ,L = roc_curve(y, y_predict)\n",
    "\n",
    "plt.figure(figsize=(6,6))\n",
    "plt.plot(tpr, fpr)\n",
    "plt.show()"
   ]
  },
  {
   "cell_type": "code",
   "execution_count": 58,
   "metadata": {},
   "outputs": [
    {
     "name": "stdout",
     "output_type": "stream",
     "text": [
      "3/3 [==============================] - 1s 224ms/step\n"
     ]
    },
    {
     "data": {
      "text/plain": [
       "(0.6334984241332733, 0.10549450549450551, 0.7868852459016393)"
      ]
     },
     "execution_count": 58,
     "metadata": {},
     "output_type": "execute_result"
    }
   ],
   "source": [
    "Z = normalize(X, axis=1)\n",
    "y_predict = af_1d_cnn.predict(X)\n",
    "accuracy_score(y,y_predict), f1_score(y, y_predict), recall_score(y, y_predict)"
   ]
  },
  {
   "cell_type": "code",
   "execution_count": null,
   "metadata": {},
   "outputs": [],
   "source": [
    "algo='ArNet2'\n",
    "model_path = 'trained_model/saved_models/ArNet2/ArNet2.pkl'\n",
    "feature_extractor_path = consts.path_models['ResNet']\n",
    "\n",
    "model = load_model(model_path, algo, feature_extractor_path)\n",
    "classifier = model['classifier']"
   ]
  },
  {
   "cell_type": "code",
   "execution_count": null,
   "metadata": {},
   "outputs": [],
   "source": [
    "afdb_input = pickle.load(open('trained_model/inputs/AFDB_input.pickle', 'rb'))\n",
    "afdb_input"
   ]
  },
  {
   "cell_type": "code",
   "execution_count": null,
   "metadata": {},
   "outputs": [],
   "source": []
  },
  {
   "cell_type": "code",
   "execution_count": null,
   "metadata": {},
   "outputs": [],
   "source": [
    "\n"
   ]
  },
  {
   "cell_type": "code",
   "execution_count": null,
   "metadata": {},
   "outputs": [],
   "source": [
    "# y_true = []\n",
    "# y_predict = []\n",
    "# for x,y in dataset:\n",
    "#     x = x.reshape(1,-1)\n",
    "#     x = np.concatenate([x, np.zeros((1,60))],axis=1)[:,:63]\n",
    "#     y_predict.append(classifier.predict_proba(x))"
   ]
  },
  {
   "cell_type": "code",
   "execution_count": null,
   "metadata": {},
   "outputs": [],
   "source": [
    "x,y = dataset[0]\n",
    "print(x.shape)\n",
    "window_id = 0\n",
    "\n",
    "x = np.concatenate([x, [0], [0], np.array(['PID1'])], dtype=object)\n",
    "x"
   ]
  },
  {
   "cell_type": "code",
   "execution_count": null,
   "metadata": {},
   "outputs": [],
   "source": [
    "classifier.predict_proba(x)"
   ]
  }
 ],
 "metadata": {
  "interpreter": {
   "hash": "7d538358a4a844c2698117f72ddbeea822b864d784b5f9260aa8445549be4a00"
  },
  "kernelspec": {
   "display_name": "Python 3.10.4 ('deep')",
   "language": "python",
   "name": "python3"
  },
  "language_info": {
   "codemirror_mode": {
    "name": "ipython",
    "version": 3
   },
   "file_extension": ".py",
   "mimetype": "text/x-python",
   "name": "python",
   "nbconvert_exporter": "python",
   "pygments_lexer": "ipython3",
   "version": "3.10.4"
  },
  "orig_nbformat": 4
 },
 "nbformat": 4,
 "nbformat_minor": 2
}
